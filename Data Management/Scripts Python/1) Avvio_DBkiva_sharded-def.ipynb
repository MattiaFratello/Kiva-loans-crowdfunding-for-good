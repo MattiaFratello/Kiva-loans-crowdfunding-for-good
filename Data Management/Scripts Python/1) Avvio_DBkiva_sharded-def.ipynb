{
 "cells": [
  {
   "cell_type": "code",
   "execution_count": 1,
   "metadata": {
    "collapsed": true
   },
   "outputs": [],
   "source": [
    "import pandas as pd\n",
    "import numpy as np\n",
    "import requests\n",
    "import json\n",
    "import time\n",
    "import sys\n",
    "import pymongo\n",
    "from pymongo import MongoClient, IndexModel, ASCENDING, DESCENDING\n",
    "import subprocess as sp\n",
    "\n",
    "batch_folder = #Sostituisci con il percorso della cartella Batch files (inizializzazione sharded DB) che hai scaricato dal drive\n"
   ]
  },
  {
   "cell_type": "markdown",
   "metadata": {},
   "source": [
    "# 1) Inizializzo gli shards ed il config server\n",
    "### Ciò avviene lanciando il file .bat preparato all'occorrenza"
   ]
  },
  {
   "cell_type": "code",
   "execution_count": 2,
   "metadata": {
    "collapsed": true
   },
   "outputs": [],
   "source": [
    "#Attenzione, questo aprirà 12 terminali!\n",
    "filename1 = \"1) launch_shards&configsrvr.bat\"\n",
    "\n",
    "p1 = sp.Popen(batch_folder+'/'+filename1)\n",
    "stout, sterr = p1.communicate()\n",
    "time.sleep(180)"
   ]
  },
  {
   "cell_type": "markdown",
   "metadata": {},
   "source": [
    "# 2) Inserisco le istruzioni per definire i replica sets\n",
    "## (che sarebbero gli shards ed il config server).\n",
    "### Questa parte va fatta solo al primo avvio"
   ]
  },
  {
   "cell_type": "code",
   "execution_count": null,
   "metadata": {
    "collapsed": true
   },
   "outputs": [],
   "source": [
    "\n",
    "shard1 = MongoClient('localhost', 27118)\n",
    "shard2 = MongoClient('localhost', 27218)\n",
    "shard3 = MongoClient('localhost', 27318)\n",
    "configsrvr = MongoClient('localhost', 27031)\n",
    "time.sleep(5)\n",
    "#Inizializzo i replica sets che formeranno gli shards ed il config server (necessario solo al primo avvio o dopo un reset)\n",
    "\n",
    "config0 = {'_id': 'configsvr', 'members': [\n",
    "{'_id': 0, 'host': 'localhost:27031'},\n",
    "{'_id': 1, 'host': 'localhost:27032'},\n",
    "{'_id': 2, 'host': 'localhost:27033'}]}\n",
    "configsrvr.admin.command(\"replSetInitiate\", config0)\n",
    "\n",
    "\n",
    "config1 = {'_id': 'kiva_s1', 'members': [\n",
    "{'_id': 0, 'host': 'localhost:27118'},\n",
    "{'_id': 1, 'host': 'localhost:27119'},\n",
    "{'_id': 2, 'host': 'localhost:27120'}]}\n",
    "shard1.admin.command(\"replSetInitiate\", config1)\n",
    "\n",
    "\n",
    "config2 = {'_id': 'kiva_s2', 'members': [\n",
    "{'_id': 0, 'host': 'localhost:27218'},\n",
    "{'_id': 1, 'host': 'localhost:27219'},\n",
    "{'_id': 2, 'host': 'localhost:27220'}]}\n",
    "shard2.admin.command(\"replSetInitiate\", config2)\n",
    "\n",
    "\n",
    "config3 = {'_id': 'kiva_s3', 'members': [\n",
    "{'_id': 0, 'host': 'localhost:27318'},\n",
    "{'_id': 1, 'host': 'localhost:27319'},\n",
    "{'_id': 2, 'host': 'localhost:27320'}]}\n",
    "shard3.admin.command(\"replSetInitiate\", config3)"
   ]
  },
  {
   "cell_type": "markdown",
   "metadata": {},
   "source": [
    "# 3) Avvio il router mongos, con cui comunicherò per inserire i dati ed effettuare le queries"
   ]
  },
  {
   "cell_type": "code",
   "execution_count": 2,
   "metadata": {
    "collapsed": true
   },
   "outputs": [],
   "source": [
    "filename2 = '2) launch_mongos.bat'\n",
    "p2 = sp.run(batch_folder+'/'+filename2)\n",
    "sleep(10)\n",
    "client = MongoClient(host='localhost', port=27018)\n",
    "db = client.kiva_DB "
   ]
  },
  {
   "cell_type": "raw",
   "metadata": {},
   "source": [
    "Ora c'è la parte che va fatta da terminale (vedi guida), per qualche motivo da python non funziona..."
   ]
  },
  {
   "cell_type": "markdown",
   "metadata": {},
   "source": [
    "# 4) Creazione indice e sharding di db e collection (da fare ASSOLUTAMENTE dopo aver fatto la parte da terminale, e comunque solo la prima volta.)"
   ]
  },
  {
   "cell_type": "code",
   "execution_count": null,
   "metadata": {
    "collapsed": true
   },
   "outputs": [],
   "source": [
    "db.loans.create_index([('id', ASCENDING)])\n",
    "client.admin.command({'enableSharding':'kiva_DB'})\n",
    "client.admin.command('shardCollection', 'kiva_DB.loans', key={'id': 1})"
   ]
  }
 ],
 "metadata": {
  "kernelspec": {
   "display_name": "Python 3",
   "language": "python",
   "name": "python3"
  },
  "language_info": {
   "codemirror_mode": {
    "name": "ipython",
    "version": 3
   },
   "file_extension": ".py",
   "mimetype": "text/x-python",
   "name": "python",
   "nbconvert_exporter": "python",
   "pygments_lexer": "ipython3",
   "version": "3.6.5"
  }
 },
 "nbformat": 4,
 "nbformat_minor": 2
}
