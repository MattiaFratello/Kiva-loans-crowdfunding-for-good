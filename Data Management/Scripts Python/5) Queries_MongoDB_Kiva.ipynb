{
 "cells": [
  {
   "cell_type": "code",
   "execution_count": 1,
   "metadata": {
    "collapsed": true
   },
   "outputs": [],
   "source": [
    "import pandas as pd\n",
    "import numpy as np\n",
    "import json\n",
    "import time\n",
    "import datetime\n",
    "import re\n",
    "from pymongo import MongoClient\n",
    "from bson.code import Code\n",
    "import nltk\n",
    "from difflib import SequenceMatcher\n",
    "import random\n",
    "\n",
    "client = MongoClient(host='localhost', port=27018)\n",
    "db = client.kiva_DB \n",
    "\n",
    "folder = 'C:/Users/pablo/Desktop/DS - Primo anno Primo semestre/Data_Management/Progetto/{}.csv'\n",
    "indicators = {'GDP' : pd.read_csv(folder.format('GDP')).set_index('Unnamed: 0'),\n",
    "                 'GNI': pd.read_csv(folder.format('GNI')).set_index('Unnamed: 0'),\n",
    "                 'GNI_atlas': pd.read_csv(folder.format('GNI_atlas')).set_index('Unnamed: 0'),\n",
    "                 'GNI_pc': pd.read_csv(folder.format('GNI_pc')).set_index('Unnamed: 0')}"
   ]
  },
  {
   "cell_type": "raw",
   "metadata": {},
   "source": [
    "IDEE PER QUERIES:\n",
    "\n",
    "1) Quanti loans ci sono e a quanto ammontano in totale per ogni paese?\n",
    "2) Quanti loans vengono chiesti ogni anno per ogni paese? \n",
    "3) C'è qualche correlazione tra gli indici economici e il numero (e/o l'ammontare) dei loans finanziati in quel paese? (OBBLIGATORIA!!!)"
   ]
  },
  {
   "cell_type": "markdown",
   "metadata": {},
   "source": [
    "# 1) Quanti loans ci sono e a quanto ammontano in totale per ogni paese?"
   ]
  },
  {
   "cell_type": "code",
   "execution_count": 2,
   "metadata": {
    "collapsed": true
   },
   "outputs": [],
   "source": [
    "#Quanti loans ci sono e a quanto ammontano in totale per ogni paese?\n",
    "\n",
    "def count_loans():\n",
    "\n",
    "    pipeline = [\n",
    "    {'$match':{}},\n",
    "    {\"$group\": {\"_id\": \"$location.country\", \"count\": {\"$sum\": 1}}},\n",
    "    ]\n",
    "    \n",
    "    total_loans_per_country_dict = {}\n",
    "    res = list(db.loans.aggregate(pipeline))\n",
    "    for doc in res:\n",
    "        total_loans_per_country_dict[doc['_id']] = doc['count']\n",
    "    \n",
    "    return total_loans_per_country_dict\n",
    "\n",
    "def avg_loans():\n",
    "\n",
    "    pipeline = [\n",
    "    {'$match':{}},\n",
    "    {\"$group\": {\"_id\": \"$location.country\", \"avg\": {\"$avg\": \"$funded_amount\"}}},\n",
    "    ]\n",
    "    \n",
    "    avg_loans_per_country_dict = {}\n",
    "    res = list(db.loans.aggregate(pipeline))\n",
    "    for doc in res:\n",
    "        avg_loans_per_country_dict[doc['_id']] = doc['avg']\n",
    "    \n",
    "    return avg_loans_per_country_dict\n",
    "\n",
    "def get_total_amount_loans():\n",
    "    \n",
    "    mapper = Code(\"\"\"\n",
    "              function (){emit(this.location.country, this.funded_amount)}\n",
    "              \"\"\")\n",
    "\n",
    "    reducer = Code(\"\"\"\n",
    "        function (key, values) {\n",
    "        var total = 0;\n",
    "        for (var i = 0; i < values.length; i++) {\n",
    "            total += values[i];\n",
    "                            }\n",
    "                            return total;\n",
    "                            }\n",
    "        \"\"\")\n",
    "\n",
    "    result = db.loans.map_reduce(mapper, reducer, \"loans_totalAmount\")\n",
    "\n",
    "    total_amounts_per_country_dict = {}\n",
    "\n",
    "    for doc in result.find():\n",
    "        total_amounts_per_country_dict[doc['_id']] = doc['value']\n",
    "    \n",
    "    return total_amounts_per_country_dict\n",
    "    \n",
    "    \n",
    "\n",
    "def get_time_period():\n",
    "    \n",
    "    pipeline = [\n",
    "    {'$match':{}},\n",
    "    {\"$group\": {\"_id\": \"$location.country\", \"min\": {\"$min\": \"$funded_date\"}, \"max\": {'$max':'$funded_date'}}},\n",
    "    ]\n",
    "    res = db.loans.aggregate(pipeline = pipeline)\n",
    "    starts = {}\n",
    "    ends = {}\n",
    "    for d in res:\n",
    "        starts[d['_id']] = d['min'][0:10]\n",
    "        ends[d['_id']] = d['max'][0:10]\n",
    "    return [starts, ends]\n",
    "\n",
    "\n",
    "def simple_dict_to_frame(d,col1,col2):\n",
    "    return pd.Series(d).to_frame().reset_index().rename(columns = {'index':col1, 0: col2})\n",
    "\n"
   ]
  },
  {
   "cell_type": "code",
   "execution_count": 4,
   "metadata": {
    "collapsed": true
   },
   "outputs": [
    {
     "ename": "OperationFailure",
     "evalue": "Could not find host matching read preference { mode: \"primary\" } for set kiva_s2",
     "output_type": "error",
     "traceback": [
      "\u001b[1;31m---------------------------------------------------------------------------\u001b[0m",
      "\u001b[1;31mOperationFailure\u001b[0m                          Traceback (most recent call last)",
      "\u001b[1;32m<ipython-input-4-e7c3c2487ab9>\u001b[0m in \u001b[0;36m<module>\u001b[1;34m()\u001b[0m\n\u001b[0;32m      1\u001b[0m \u001b[0mt1\u001b[0m \u001b[1;33m=\u001b[0m \u001b[0mtime\u001b[0m\u001b[1;33m.\u001b[0m\u001b[0mtime\u001b[0m\u001b[1;33m(\u001b[0m\u001b[1;33m)\u001b[0m\u001b[1;33m\u001b[0m\u001b[0m\n\u001b[1;32m----> 2\u001b[1;33m \u001b[0mquery1\u001b[0m \u001b[1;33m=\u001b[0m \u001b[0msimple_dict_to_frame\u001b[0m\u001b[1;33m(\u001b[0m\u001b[0mcount_loans\u001b[0m\u001b[1;33m(\u001b[0m\u001b[1;33m)\u001b[0m\u001b[1;33m,\u001b[0m\u001b[1;34m'Country'\u001b[0m\u001b[1;33m,\u001b[0m\u001b[1;34m'Total loans'\u001b[0m\u001b[1;33m)\u001b[0m\u001b[1;33m\u001b[0m\u001b[0m\n\u001b[0m\u001b[0;32m      3\u001b[0m \u001b[0mprint\u001b[0m\u001b[1;33m(\u001b[0m\u001b[1;34m'Time elapsed to solve query: '\u001b[0m\u001b[1;33m,\u001b[0m \u001b[0mtime\u001b[0m\u001b[1;33m.\u001b[0m\u001b[0mtime\u001b[0m\u001b[1;33m(\u001b[0m\u001b[1;33m)\u001b[0m \u001b[1;33m-\u001b[0m \u001b[0mt1\u001b[0m\u001b[1;33m)\u001b[0m\u001b[1;33m\u001b[0m\u001b[0m\n\u001b[0;32m      4\u001b[0m \u001b[1;33m\u001b[0m\u001b[0m\n\u001b[0;32m      5\u001b[0m \u001b[0mquery1\u001b[0m\u001b[1;33m[\u001b[0m\u001b[1;34m'Total amount of loans'\u001b[0m\u001b[1;33m]\u001b[0m \u001b[1;33m=\u001b[0m \u001b[0msimple_dict_to_frame\u001b[0m\u001b[1;33m(\u001b[0m\u001b[0mget_total_amount_loans\u001b[0m\u001b[1;33m(\u001b[0m\u001b[1;33m)\u001b[0m\u001b[1;33m,\u001b[0m\u001b[1;34m'Country'\u001b[0m\u001b[1;33m,\u001b[0m\u001b[1;34m'Total amount of loans'\u001b[0m\u001b[1;33m)\u001b[0m\u001b[1;33m[\u001b[0m\u001b[1;34m'Total amount of loans'\u001b[0m\u001b[1;33m]\u001b[0m\u001b[1;33m\u001b[0m\u001b[0m\n",
      "\u001b[1;32m<ipython-input-2-fb7ef4dafde5>\u001b[0m in \u001b[0;36mcount_loans\u001b[1;34m()\u001b[0m\n\u001b[0;32m      9\u001b[0m \u001b[1;33m\u001b[0m\u001b[0m\n\u001b[0;32m     10\u001b[0m     \u001b[0mtotal_loans_per_country_dict\u001b[0m \u001b[1;33m=\u001b[0m \u001b[1;33m{\u001b[0m\u001b[1;33m}\u001b[0m\u001b[1;33m\u001b[0m\u001b[0m\n\u001b[1;32m---> 11\u001b[1;33m     \u001b[0mres\u001b[0m \u001b[1;33m=\u001b[0m \u001b[0mlist\u001b[0m\u001b[1;33m(\u001b[0m\u001b[0mdb\u001b[0m\u001b[1;33m.\u001b[0m\u001b[0mloans\u001b[0m\u001b[1;33m.\u001b[0m\u001b[0maggregate\u001b[0m\u001b[1;33m(\u001b[0m\u001b[0mpipeline\u001b[0m\u001b[1;33m)\u001b[0m\u001b[1;33m)\u001b[0m\u001b[1;33m\u001b[0m\u001b[0m\n\u001b[0m\u001b[0;32m     12\u001b[0m     \u001b[1;32mfor\u001b[0m \u001b[0mdoc\u001b[0m \u001b[1;32min\u001b[0m \u001b[0mres\u001b[0m\u001b[1;33m:\u001b[0m\u001b[1;33m\u001b[0m\u001b[0m\n\u001b[0;32m     13\u001b[0m         \u001b[0mtotal_loans_per_country_dict\u001b[0m\u001b[1;33m[\u001b[0m\u001b[0mdoc\u001b[0m\u001b[1;33m[\u001b[0m\u001b[1;34m'_id'\u001b[0m\u001b[1;33m]\u001b[0m\u001b[1;33m]\u001b[0m \u001b[1;33m=\u001b[0m \u001b[0mdoc\u001b[0m\u001b[1;33m[\u001b[0m\u001b[1;34m'count'\u001b[0m\u001b[1;33m]\u001b[0m\u001b[1;33m\u001b[0m\u001b[0m\n",
      "\u001b[1;32m~\\Anaconda3\\lib\\site-packages\\pymongo\\collection.py\u001b[0m in \u001b[0;36maggregate\u001b[1;34m(self, pipeline, session, **kwargs)\u001b[0m\n\u001b[0;32m   2179\u001b[0m                                    \u001b[0msession\u001b[0m\u001b[1;33m=\u001b[0m\u001b[0ms\u001b[0m\u001b[1;33m,\u001b[0m\u001b[1;33m\u001b[0m\u001b[0m\n\u001b[0;32m   2180\u001b[0m                                    \u001b[0mexplicit_session\u001b[0m\u001b[1;33m=\u001b[0m\u001b[0msession\u001b[0m \u001b[1;32mis\u001b[0m \u001b[1;32mnot\u001b[0m \u001b[1;32mNone\u001b[0m\u001b[1;33m,\u001b[0m\u001b[1;33m\u001b[0m\u001b[0m\n\u001b[1;32m-> 2181\u001b[1;33m                                    **kwargs)\n\u001b[0m\u001b[0;32m   2182\u001b[0m \u001b[1;33m\u001b[0m\u001b[0m\n\u001b[0;32m   2183\u001b[0m     \u001b[1;32mdef\u001b[0m \u001b[0maggregate_raw_batches\u001b[0m\u001b[1;33m(\u001b[0m\u001b[0mself\u001b[0m\u001b[1;33m,\u001b[0m \u001b[0mpipeline\u001b[0m\u001b[1;33m,\u001b[0m \u001b[1;33m**\u001b[0m\u001b[0mkwargs\u001b[0m\u001b[1;33m)\u001b[0m\u001b[1;33m:\u001b[0m\u001b[1;33m\u001b[0m\u001b[0m\n",
      "\u001b[1;32m~\\Anaconda3\\lib\\site-packages\\pymongo\\collection.py\u001b[0m in \u001b[0;36m_aggregate\u001b[1;34m(self, pipeline, cursor_class, first_batch_size, session, explicit_session, **kwargs)\u001b[0m\n\u001b[0;32m   2086\u001b[0m                 \u001b[0mcollation\u001b[0m\u001b[1;33m=\u001b[0m\u001b[0mcollation\u001b[0m\u001b[1;33m,\u001b[0m\u001b[1;33m\u001b[0m\u001b[0m\n\u001b[0;32m   2087\u001b[0m                 \u001b[0msession\u001b[0m\u001b[1;33m=\u001b[0m\u001b[0msession\u001b[0m\u001b[1;33m,\u001b[0m\u001b[1;33m\u001b[0m\u001b[0m\n\u001b[1;32m-> 2088\u001b[1;33m                 client=self.__database.client)\n\u001b[0m\u001b[0;32m   2089\u001b[0m \u001b[1;33m\u001b[0m\u001b[0m\n\u001b[0;32m   2090\u001b[0m             \u001b[1;32mif\u001b[0m \u001b[1;34m\"cursor\"\u001b[0m \u001b[1;32min\u001b[0m \u001b[0mresult\u001b[0m\u001b[1;33m:\u001b[0m\u001b[1;33m\u001b[0m\u001b[0m\n",
      "\u001b[1;32m~\\Anaconda3\\lib\\site-packages\\pymongo\\pool.py\u001b[0m in \u001b[0;36mcommand\u001b[1;34m(self, dbname, spec, slave_ok, read_preference, codec_options, check, allowable_errors, check_keys, read_concern, write_concern, parse_write_concern_error, collation, session, client, retryable_write)\u001b[0m\n\u001b[0;32m    494\u001b[0m                            \u001b[0mself\u001b[0m\u001b[1;33m.\u001b[0m\u001b[0mmax_bson_size\u001b[0m\u001b[1;33m,\u001b[0m \u001b[0mread_concern\u001b[0m\u001b[1;33m,\u001b[0m\u001b[1;33m\u001b[0m\u001b[0m\n\u001b[0;32m    495\u001b[0m                            \u001b[0mparse_write_concern_error\u001b[0m\u001b[1;33m=\u001b[0m\u001b[0mparse_write_concern_error\u001b[0m\u001b[1;33m,\u001b[0m\u001b[1;33m\u001b[0m\u001b[0m\n\u001b[1;32m--> 496\u001b[1;33m                            collation=collation)\n\u001b[0m\u001b[0;32m    497\u001b[0m         \u001b[1;32mexcept\u001b[0m \u001b[0mOperationFailure\u001b[0m\u001b[1;33m:\u001b[0m\u001b[1;33m\u001b[0m\u001b[0m\n\u001b[0;32m    498\u001b[0m             \u001b[1;32mraise\u001b[0m\u001b[1;33m\u001b[0m\u001b[0m\n",
      "\u001b[1;32m~\\Anaconda3\\lib\\site-packages\\pymongo\\network.py\u001b[0m in \u001b[0;36mcommand\u001b[1;34m(sock, dbname, spec, slave_ok, is_mongos, read_preference, codec_options, session, client, check, allowable_errors, address, check_keys, listeners, max_bson_size, read_concern, parse_write_concern_error, collation)\u001b[0m\n\u001b[0;32m    123\u001b[0m             helpers._check_command_response(\n\u001b[0;32m    124\u001b[0m                 \u001b[0mresponse_doc\u001b[0m\u001b[1;33m,\u001b[0m \u001b[1;32mNone\u001b[0m\u001b[1;33m,\u001b[0m \u001b[0mallowable_errors\u001b[0m\u001b[1;33m,\u001b[0m\u001b[1;33m\u001b[0m\u001b[0m\n\u001b[1;32m--> 125\u001b[1;33m                 parse_write_concern_error=parse_write_concern_error)\n\u001b[0m\u001b[0;32m    126\u001b[0m     \u001b[1;32mexcept\u001b[0m \u001b[0mException\u001b[0m \u001b[1;32mas\u001b[0m \u001b[0mexc\u001b[0m\u001b[1;33m:\u001b[0m\u001b[1;33m\u001b[0m\u001b[0m\n\u001b[0;32m    127\u001b[0m         \u001b[1;32mif\u001b[0m \u001b[0mpublish\u001b[0m\u001b[1;33m:\u001b[0m\u001b[1;33m\u001b[0m\u001b[0m\n",
      "\u001b[1;32m~\\Anaconda3\\lib\\site-packages\\pymongo\\helpers.py\u001b[0m in \u001b[0;36m_check_command_response\u001b[1;34m(response, msg, allowable_errors, parse_write_concern_error)\u001b[0m\n\u001b[0;32m    144\u001b[0m \u001b[1;33m\u001b[0m\u001b[0m\n\u001b[0;32m    145\u001b[0m             \u001b[0mmsg\u001b[0m \u001b[1;33m=\u001b[0m \u001b[0mmsg\u001b[0m \u001b[1;32mor\u001b[0m \u001b[1;34m\"%s\"\u001b[0m\u001b[1;33m\u001b[0m\u001b[0m\n\u001b[1;32m--> 146\u001b[1;33m             \u001b[1;32mraise\u001b[0m \u001b[0mOperationFailure\u001b[0m\u001b[1;33m(\u001b[0m\u001b[0mmsg\u001b[0m \u001b[1;33m%\u001b[0m \u001b[0merrmsg\u001b[0m\u001b[1;33m,\u001b[0m \u001b[0mcode\u001b[0m\u001b[1;33m,\u001b[0m \u001b[0mresponse\u001b[0m\u001b[1;33m)\u001b[0m\u001b[1;33m\u001b[0m\u001b[0m\n\u001b[0m\u001b[0;32m    147\u001b[0m \u001b[1;33m\u001b[0m\u001b[0m\n\u001b[0;32m    148\u001b[0m \u001b[1;33m\u001b[0m\u001b[0m\n",
      "\u001b[1;31mOperationFailure\u001b[0m: Could not find host matching read preference { mode: \"primary\" } for set kiva_s2"
     ]
    }
   ],
   "source": [
    "t1 = time.time()\n",
    "query1 = simple_dict_to_frame(count_loans(),'Country','Total loans')\n",
    "print('Time elapsed to solve query: ', time.time() - t1)\n",
    "\n",
    "query1['Total amount of loans'] = simple_dict_to_frame(get_total_amount_loans(),'Country','Total amount of loans')['Total amount of loans']\n",
    "query1['Average loan amount'] = simple_dict_to_frame(avg_loans(),'Country','Average amount of loans')['Average amount of loans']\n",
    "query1['Date of first loan registered'] = simple_dict_to_frame(get_time_period()[0],'Country','Date of first loan registered')['Date of first loan registered']\n",
    "query1['Date of last loan registered'] = simple_dict_to_frame(get_time_period()[1],'Country','Date of last loan registered')['Date of last loan registered']\n",
    "\n",
    "#query1.to_csv('C:/Users/pablo/Desktop/DS - Primo anno Primo semestre/Data_Management/Progetto/Output_queries/query1.csv')\n",
    "query1.head()"
   ]
  },
  {
   "cell_type": "markdown",
   "metadata": {},
   "source": [
    "# 2) Quanti loans vengono chiesti ogni anno per un paese esempio (Perù)? "
   ]
  },
  {
   "cell_type": "code",
   "execution_count": null,
   "metadata": {
    "collapsed": true
   },
   "outputs": [],
   "source": [
    "#Quanti loans vengono chiesti ogni giorno per un paese esempio? (Peru)\n",
    "def extract_date(d):\n",
    "    \n",
    "    regex = re.match('(\\d\\d\\d\\d)-(\\d\\d)-(\\d\\d)T(\\d\\d):(\\d\\d):(\\d\\d)',d['Date'])\n",
    "\n",
    "    return datetime.datetime(year=int(regex.group(1)),month= int(regex.group(2)), day= int(regex.group(3)), hour = int(regex.group(4)), minute = int(regex.group(5)), second = int(regex.group(6)))\n",
    "\n",
    "\n",
    "pipeline2 = [\n",
    "    {'$match':{'location.country':'Peru',\n",
    "     'funded_date':{'$exists':'true'}\n",
    "              }\n",
    "    },\n",
    "    {\"$group\": {\"_id\": {'Date':\"$funded_date\"},\n",
    "                \"Number of loans\":{\"$sum\": 1},\n",
    "                \"Amount funded (average)\": {\"$avg\": \"$funded_amount\"}\n",
    "               }\n",
    "    }\n",
    "    ]\n",
    "query2 = pd.DataFrame()\n",
    "t2 = time.time()\n",
    "res2 = list(db.loans.aggregate(pipeline2))\n",
    "print('Time elapsed to solve query: ', time.time() - t2)\n",
    "if(len(res2)==0):\n",
    "    print('Uncorrect query')\n",
    "else:\n",
    "    query2 = pd.DataFrame(res2)\n",
    "    query2['Day (yy-mm-dd)'] = query2['_id'].apply(lambda d: str(extract_date(d))[:11])\n",
    "    query2['Hour (hh:mm:ss)'] = query2['_id'].apply(lambda d: str(extract_date(d))[11:])\n",
    "    query2 = query2[['Day (yy-mm-dd)','Hour (hh:mm:ss)','Amount funded (average)','Number of loans']].sort_values(by = 'Day (yy-mm-dd)').set_index(['Day (yy-mm-dd)','Hour (hh:mm:ss)'])\n",
    "query2.to_csv('C:/Users/pablo/Desktop/DS - Primo anno Primo semestre/Data_Management/Progetto/Output_queries/query2.csv'"
   ]
  },
  {
   "cell_type": "markdown",
   "metadata": {},
   "source": [
    "# 3) C'è qualche correlazione tra gli indici economici e il numero (e/o l'ammontare) dei loans finanziati in quel paese? "
   ]
  },
  {
   "cell_type": "code",
   "execution_count": 154,
   "metadata": {
    "collapsed": true
   },
   "outputs": [],
   "source": [
    "#C'è qualche correlazione tra gli indici economici e il numero (e/o l'ammontare) dei loans finanziati in quel paese?\n",
    "\n",
    "def get_year(d):\n",
    "    return int(d['y'])\n",
    "\n",
    "def indicator_to_number(d):\n",
    "    r = re.match('(.*)\\..*',str(d))\n",
    "    if(r is None):\n",
    "        return np.nan\n",
    "    else:\n",
    "        return int(r.group(1).replace(',',''))\n",
    "\n",
    "pipeline3 = [\n",
    "    {'$match': {\n",
    "        'funded_amount':{'$exists':'true'},\n",
    "        'funded_date':{'$exists':'true'},\n",
    "        }\n",
    "    },\n",
    "    {'$project':{\n",
    "        'year':{'$substr':[\"$funded_date\",0,4]},\n",
    "        'country':'$location.country',\n",
    "        'amount': '$funded_amount',\n",
    "        'date': \"$funded_date\",\n",
    "        'GNI':'$location.GNI',\n",
    "        'GNI_pc':'$location.GNI_pc',\n",
    "        }\n",
    "    },\n",
    "    {'$group':{\n",
    "        '_id':{'y':'$year','c':'$country'},\n",
    "        'Number of loans funded':{'$sum':1},\n",
    "        'Total loans amount': {'$sum':'$amount'},\n",
    "        'Average loan amount': {'$avg':'$amount'},\n",
    "        'Date of first loan of the year': {'$min':'$date'},\n",
    "        'Date of last loan of the year': {'$max':'$date'},\n",
    "        'GNI':{'$min':'$GNI'},\n",
    "        'GNI per capita':{'$min':'$GNI_pc'},\n",
    "                }\n",
    "    }\n",
    "]\n",
    "\n",
    "t3 = time.time()\n",
    "res3 = list(db.loans.aggregate(pipeline3))\n",
    "print('Time elapsed to solve query: ', time.time() - t3)\n",
    "query3 = pd.DataFrame(res3)\n",
    "\n",
    "query3['Year'] = query3['_id'].apply(lambda d:int(d['y']))\n",
    "query3['Country'] = query3['_id'].apply(lambda d:str(d['c']))\n",
    "query3['Date of first loan of the year'] = query3['Date of first loan of the year'].apply(lambda d:d[0:10])\n",
    "query3['Date of last loan of the year'] = query3['Date of last loan of the year'].apply(lambda d:d[0:10])\n",
    "query3['GNI'] = query3['GNI'].apply(indicator_to_number)\n",
    "query3['GNI per capita'] = query3['GNI per capita'].apply(indicator_to_number)\n",
    "query3.drop('_id', axis=1, inplace=True)\n",
    "query3 = query3.set_index(['Country','Year'],).sort_index()\n",
    "query3.drop(labels =[2017,2018],level='Year', inplace=True)\n",
    "#query3.to_csv('C:/Users/pablo/Desktop/DS - Primo anno Primo semestre/Data_Management/Progetto/Output_queries/query3.csv')\n",
    "query3"
   ]
  },
  {
   "cell_type": "code",
   "execution_count": null,
   "metadata": {
    "collapsed": true
   },
   "outputs": [],
   "source": []
  }
 ],
 "metadata": {
  "kernelspec": {
   "display_name": "Python 3",
   "language": "python",
   "name": "python3"
  },
  "language_info": {
   "codemirror_mode": {
    "name": "ipython",
    "version": 3
   },
   "file_extension": ".py",
   "mimetype": "text/x-python",
   "name": "python",
   "nbconvert_exporter": "python",
   "pygments_lexer": "ipython3",
   "version": "3.6.5"
  }
 },
 "nbformat": 4,
 "nbformat_minor": 2
}
