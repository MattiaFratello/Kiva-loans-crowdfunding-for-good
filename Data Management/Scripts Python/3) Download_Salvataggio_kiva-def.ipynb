{
 "cells": [
  {
   "cell_type": "code",
   "execution_count": 4,
   "metadata": {
    "collapsed": true
   },
   "outputs": [],
   "source": [
    "import pandas as pd\n",
    "import numpy as np\n",
    "import requests\n",
    "import json\n",
    "import time\n",
    "import sys\n",
    "from pymongo import MongoClient\n",
    "\n",
    "#Connessione al DB\n",
    "client = MongoClient(host='localhost', port=27018)\n",
    "db = client.kiva_DB "
   ]
  },
  {
   "cell_type": "markdown",
   "metadata": {},
   "source": [
    "# VOLUME + VARIETA'\n",
    "#### DOWNLOAD DEI LOANS MEDIANTE API DI KIVA.ORG, ARRICCHIMENTO CON I DETTAGLI, AGGIUNTA DELLE INFORMAZIONI SUGLI INDICATORI ECONOMICI (gdp, gni, gni-metodo atlas e gni per capita) E SALVATAGGIO SU MONGODB"
   ]
  },
  {
   "cell_type": "code",
   "execution_count": 5,
   "metadata": {
    "collapsed": true
   },
   "outputs": [],
   "source": [
    "#URL e parametri per contattare le API, + dati dalla World Bank per la varietà\n",
    "url = 'https://api.kivaws.org/v1/loans/search.json'\n",
    "params = {\n",
    "        'per_page' : 100,\n",
    "        'sort_by' : 'oldest',\n",
    "        'ids_only': 'true'\n",
    "            }\n",
    "\n",
    "###################SOSTITUISCI FOLDER CON IL PERCORSO DELLA CARTELLA DOVE HAI MESSO I CSV DALLA WORLD BANK###################\n",
    "##############################OCCHIO A LASCIARE '/{}.csv' ALLA FINE DEL PERCORSO DELLA CARTELLA##############################\n",
    "folder = 'C:/Users/pablo/Desktop/DS - Primo anno Primo semestre/Data_Management/Progetto/{}.csv'\n",
    "\n",
    "\n",
    "indicators = {'GDP' : pd.read_csv(folder.format('GDP')).set_index('Unnamed: 0'),\n",
    "                 'GNI': pd.read_csv(folder.format('GNI')).set_index('Unnamed: 0'),\n",
    "                 'GNI_atlas': pd.read_csv(folder.format('GNI_atlas')).set_index('Unnamed: 0'),\n",
    "                 'GNI_pc': pd.read_csv(folder.format('GNI_pc')).set_index('Unnamed: 0')}\n",
    "\n",
    "df_GDP = pd.melt(indicators['GDP'].reset_index(), id_vars=['Unnamed: 0']).sort_values(['Unnamed: 0','variable']).rename(columns = {'Unnamed: 0':'Country', 'variable':'Year', 'value':'GDP'}).reset_index(drop=True)\n",
    "df_GNI = pd.melt(indicators['GNI'].reset_index(), id_vars=['Unnamed: 0']).sort_values(['Unnamed: 0','variable']).rename(columns = {'Unnamed: 0':'Country', 'variable':'Year', 'value':'GNI'}).reset_index(drop=True)\n",
    "df_GNI_atlas = pd.melt(indicators['GNI_atlas'].reset_index(), id_vars=['Unnamed: 0']).sort_values(['Unnamed: 0','variable']).rename(columns = {'Unnamed: 0':'Country', 'variable':'Year', 'value':'GNI_atlas'}).reset_index(drop=True)\n",
    "df_GNI_pc = pd.melt(indicators['GNI_pc'].reset_index(), id_vars=['Unnamed: 0']).sort_values(['Unnamed: 0','variable']).rename(columns = {'Unnamed: 0':'Country', 'variable':'Year', 'value':'GNI_pc'}).reset_index(drop=True)\n"
   ]
  },
  {
   "cell_type": "code",
   "execution_count": 2,
   "metadata": {
    "collapsed": true
   },
   "outputs": [],
   "source": [
    "def get_economic_indicator(indicator,country, year, indicators):\n",
    "    \n",
    "   \n",
    "    df = indicators[indicator]\n",
    "    if(str(year) in df.columns):\n",
    "        if(country in df.index): \n",
    "            return df.loc[country].to_dict()[str(year)]\n",
    "        else:\n",
    "            return np.nan\n",
    "    \n",
    "def get_string_of_IDs(nums):\n",
    "    IDs = []\n",
    "    for i in nums:\n",
    "        IDs.append(str(i))\n",
    "    return ','.join(IDs)"
   ]
  },
  {
   "cell_type": "code",
   "execution_count": 4,
   "metadata": {
    "collapsed": true
   },
   "outputs": [
    {
     "name": "stdout",
     "output_type": "stream",
     "text": [
      "Initial count:  1255336\n",
      "Loans:  1503337 , time elapsed:  7.1517724990844735\r"
     ]
    },
    {
     "ename": "SystemExit",
     "evalue": "",
     "output_type": "error",
     "traceback": [
      "An exception has occurred, use %tb to see the full traceback.\n",
      "\u001b[1;31mSystemExit\u001b[0m\n"
     ]
    },
    {
     "name": "stderr",
     "output_type": "stream",
     "text": [
      "C:\\Users\\pablo\\Anaconda3\\lib\\site-packages\\IPython\\core\\interactiveshell.py:2870: UserWarning: To exit: use 'exit', 'quit', or Ctrl-D.\n",
      "  warn(\"To exit: use 'exit', 'quit', or Ctrl-D.\", stacklevel=1)\n"
     ]
    }
   ],
   "source": [
    "#Per poter effettuare le richieste in più tempi, è opportuno poter fermare lo script e farlo ripartire.\n",
    "#Quando lo script parte, chiede al DB quanti loans contenga e da questa cifra ricava il numero di pagina iniziale.\n",
    "\n",
    "#Ddue problemi: la prima pagina per le API non è indicata come page=0, come sarebbe comodo, ma semplicemente manca\n",
    "#il parametro page nella richiesta, quindi bisogna fare una richiesta apposta per la prima pagina.\n",
    "count = db.loans.count()\n",
    "print('Initial count: ',count)\n",
    "start = int((count - count%100)/100) + 1\n",
    "if(count == 0):\n",
    "    start = 0\n",
    "elif(count%100 == 0):\n",
    "    start = int(count/100) + 1\n",
    "    \n",
    "#Il numero di pagina finale invece viene chiesto direttamente alle API\n",
    "res_end = requests.get(url = url, params = params).json()\n",
    "end = res_end['paging']['pages']\n",
    "\n",
    "#Può capitare che una richiesta non vada a buon fine perchè le API hanno un limite di richieste (nel\n",
    "#qual caso ritento dopo 1 minuto), oppure per altri motivi (ad es risorsa mancante), nel qual caso occorre \n",
    "#intervento umano.\n",
    "#Per distinguere tra i due casi setto un contatore che mi indichi quante volte la richiesta è fallita; quando\n",
    "#una richiesta fallisce la prima volta allora ritento dopo 1 minuto, ma se fallisce per 5 volte consecutive,\n",
    "#assumo che ci sia un problema più serio e chiudo lo script.\n",
    "fails_counter=0\n",
    "\n",
    "#####################################################   Si comincia.   ####################################################\n",
    "for page in range(start,end):\n",
    "    \n",
    "     if(res_end['paging']['total'] - db.loans.count() < 100):  \n",
    "#Finito di scaricare e salvare, chiudo la connessione con il DB e termino il programma\n",
    "        db.client.close()\n",
    "        sys.exit()\n",
    "\n",
    "#Per stimare quanto tempo occorra ad ottenere ciascuna pagina, salvo innanzitutto il tempo attuale.\n",
    "    start_time = time.time()\n",
    "#Setto la pagina attuale da richiedere alla API. Appunto, se mi serve la prima pagina allora mando la richiesta senza\n",
    "#il parametro 'page', altrimenti devo settarlo qui.\n",
    "    if(page != 0):\n",
    "        params['page']= str(page)\n",
    "        \n",
    "   #ora invio la richiesta per i soli ID dei loans della pagina che sto chiedendo e salvo la risposta, chiamandola r_ID\n",
    "    r_ID = requests.get(url = url, params = params)\n",
    "    \n",
    "#Questo if gestisce il fallimento della richiesta come descritto sopra\n",
    "    if(r_ID.status_code != 200):\n",
    "        fails_counter +=1\n",
    "        \n",
    "        if(fails_counter >5):\n",
    "            print('Too many fails, shutting down at page ', page, ' with code ', str(r_ID.status_code))\n",
    "            sys.exit()\n",
    "        else:\n",
    "            print('Request was denied at page ', page, ' with code ',str(r_ID.status_code), '. I\\'ll try again in a minute. Fail counter: ', fails_counter)\n",
    "            time.sleep(62)\n",
    "            page = page -1\n",
    "            \n",
    "#Se si arriva a questo punto allora la richiesta è andata bene, quindi recupero gli ID, \n",
    "#invio la richiesta per avere i dettagli e li aggiungo a ciascun loan\n",
    "    else: \n",
    "\n",
    "#Innanzitutto resetto il contatore dei fails\n",
    "        fails_counter=0\n",
    "    \n",
    "#Ho gli IDs, li uso per scaricare i loans.\n",
    "        IDs_string = get_string_of_IDs(r_ID.json()['loans'])\n",
    "        \n",
    "#Ora ho la stringa degli IDs, posso lanciare la richiesta per i loans veri e propri\n",
    "        url_d = 'https://api.kivaws.org/v1/loans/{}.json'.format(IDs_string)\n",
    "        r_d = requests.get(url_d)\n",
    "\n",
    "#Come prima, potrei ricevere una risposta non valida (risorsa mancante ecc), ma in tal caso semplicemente\n",
    "#non salvo quel blocco di loans, perchè sarebbe inutile\n",
    "        if(r_d.status_code == 200):\n",
    "            rj = r_d.json()['loans']\n",
    "            \n",
    "#Aggiungo la parte di varietà: ad ogni loan vengono aggiunti gli opportuni campi con GDP, GNI ecc\n",
    "            for loan in rj:\n",
    "                loan['location']['GDP']= get_economic_indicator('GDP',loan['location']['country'], loan['posted_date'][0:4], indicators)\n",
    "                loan['location']['GNI']= get_economic_indicator('GNI',loan['location']['country'], loan['posted_date'][0:4], indicators)\n",
    "                loan['location']['GNI_atlas']= get_economic_indicator('GNI_atlas',loan['location']['country'], loan['posted_date'][0:4], indicators)\n",
    "                loan['location']['GNI_pc']= get_economic_indicator('GNI_pc',loan['location']['country'], loan['posted_date'][0:4],indicators)\n",
    "\n",
    "#Ora finalmente il blocco di loans è completo di dettagli e pronto ad essere mandato al DB\n",
    "    db.loans.insert_many(rj)\n",
    "    \n",
    "#Tanto per avere un po' di controllo sull'esecuzione, ad ogni ciclo stampo il numero di loans ricevuti ed il tempo \n",
    "#occorso a compiere tutte le operazioni\n",
    "    time_elapsed = time.time() - start_time\n",
    "    print('Loans: ', db.loans.count(), ', time elapsed: ', time_elapsed, end = '\\r')\n",
    "   "
   ]
  }
 ],
 "metadata": {
  "kernelspec": {
   "display_name": "Python 3",
   "language": "python",
   "name": "python3"
  },
  "language_info": {
   "codemirror_mode": {
    "name": "ipython",
    "version": 3
   },
   "file_extension": ".py",
   "mimetype": "text/x-python",
   "name": "python",
   "nbconvert_exporter": "python",
   "pygments_lexer": "ipython3",
   "version": "3.6.5"
  }
 },
 "nbformat": 4,
 "nbformat_minor": 2
}
